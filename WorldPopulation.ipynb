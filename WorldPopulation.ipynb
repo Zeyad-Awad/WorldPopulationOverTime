{
 "cells": [
  {
   "cell_type": "markdown",
   "metadata": {},
   "source": [
    "# Population Over the Decades\n",
    "\n",
    "## Description\n",
    "The objective of this project is to visualize the population trends over the past 7 decades. The data was collected from https://www.worldometers.info.\n",
    "\n"
   ]
  },
  {
   "cell_type": "code",
   "execution_count": 2,
   "metadata": {},
   "outputs": [],
   "source": [
    "import requests\n",
    "import pandas as pd\n",
    "import numpy as np\n",
    "from bs4 import BeautifulSoup\n",
    "import matplotlib.pyplot as plt\n",
    "%matplotlib inline"
   ]
  },
  {
   "cell_type": "markdown",
   "metadata": {},
   "source": [
    "## Scraping data"
   ]
  },
  {
   "cell_type": "code",
   "execution_count": 3,
   "metadata": {},
   "outputs": [],
   "source": [
    "url = 'https://www.worldometers.info/world-population/world-population-by-year/'\n",
    "response = requests.get(url)\n",
    "soup = BeautifulSoup(response.text, 'html.parser')"
   ]
  },
  {
   "cell_type": "markdown",
   "metadata": {},
   "source": [
    "### Filtering data to represent the last 7 decades"
   ]
  },
  {
   "cell_type": "code",
   "execution_count": 4,
   "metadata": {},
   "outputs": [],
   "source": [
    "table_body = soup.find('tbody')\n",
    "rows = table_body.find_all('tr')[:70]"
   ]
  },
  {
   "cell_type": "code",
   "execution_count": 5,
   "metadata": {},
   "outputs": [],
   "source": [
    "cols = []\n",
    "for row in rows:\n",
    "    cols.append(row.find_all('td'))\n"
   ]
  },
  {
   "cell_type": "markdown",
   "metadata": {},
   "source": [
    "### Extracting Columns"
   ]
  },
  {
   "cell_type": "code",
   "execution_count": 6,
   "metadata": {},
   "outputs": [],
   "source": [
    "dic = {}\n",
    "for col in cols:\n",
    "    dic[col[0].text] = [x.text for x in col[1:7]]\n",
    "        "
   ]
  },
  {
   "cell_type": "code",
   "execution_count": 7,
   "metadata": {},
   "outputs": [
    {
     "data": {
      "text/html": [
       "<div>\n",
       "<style scoped>\n",
       "    .dataframe tbody tr th:only-of-type {\n",
       "        vertical-align: middle;\n",
       "    }\n",
       "\n",
       "    .dataframe tbody tr th {\n",
       "        vertical-align: top;\n",
       "    }\n",
       "\n",
       "    .dataframe thead th {\n",
       "        text-align: right;\n",
       "    }\n",
       "</style>\n",
       "<table border=\"1\" class=\"dataframe\">\n",
       "  <thead>\n",
       "    <tr style=\"text-align: right;\">\n",
       "      <th></th>\n",
       "      <th>2020</th>\n",
       "      <th>2019</th>\n",
       "      <th>2018</th>\n",
       "      <th>2017</th>\n",
       "      <th>2016</th>\n",
       "      <th>2015</th>\n",
       "      <th>2014</th>\n",
       "      <th>2013</th>\n",
       "      <th>2012</th>\n",
       "      <th>2011</th>\n",
       "      <th>...</th>\n",
       "      <th>1960</th>\n",
       "      <th>1959</th>\n",
       "      <th>1958</th>\n",
       "      <th>1957</th>\n",
       "      <th>1956</th>\n",
       "      <th>1955</th>\n",
       "      <th>1954</th>\n",
       "      <th>1953</th>\n",
       "      <th>1952</th>\n",
       "      <th>1951</th>\n",
       "    </tr>\n",
       "  </thead>\n",
       "  <tbody>\n",
       "    <tr>\n",
       "      <th>0</th>\n",
       "      <td>7,794,798,739</td>\n",
       "      <td>7,713,468,100</td>\n",
       "      <td>7,631,091,040</td>\n",
       "      <td>7,547,858,925</td>\n",
       "      <td>7,464,022,049</td>\n",
       "      <td>7,379,797,139</td>\n",
       "      <td>7,295,290,765</td>\n",
       "      <td>7,210,581,976</td>\n",
       "      <td>7,125,828,059</td>\n",
       "      <td>7,041,194,301</td>\n",
       "      <td>...</td>\n",
       "      <td>3,034,949,748</td>\n",
       "      <td>2,979,576,185</td>\n",
       "      <td>2,925,686,705</td>\n",
       "      <td>2,873,306,090</td>\n",
       "      <td>2,822,443,282</td>\n",
       "      <td>2,773,019,936</td>\n",
       "      <td>2,724,846,741</td>\n",
       "      <td>2,677,608,960</td>\n",
       "      <td>2,630,861,562</td>\n",
       "      <td>2,584,034,261</td>\n",
       "    </tr>\n",
       "    <tr>\n",
       "      <th>1</th>\n",
       "      <td>1.05 %</td>\n",
       "      <td>1.08 %</td>\n",
       "      <td>1.10 %</td>\n",
       "      <td>1.12 %</td>\n",
       "      <td>1.14 %</td>\n",
       "      <td>1.16 %</td>\n",
       "      <td>1.17 %</td>\n",
       "      <td>1.19 %</td>\n",
       "      <td>1.20 %</td>\n",
       "      <td>1.21 %</td>\n",
       "      <td>...</td>\n",
       "      <td>1.86 %</td>\n",
       "      <td>1.84 %</td>\n",
       "      <td>1.82 %</td>\n",
       "      <td>1.80 %</td>\n",
       "      <td>1.78 %</td>\n",
       "      <td>1.77 %</td>\n",
       "      <td>1.76 %</td>\n",
       "      <td>1.78 %</td>\n",
       "      <td>1.81 %</td>\n",
       "      <td>1.88 %</td>\n",
       "    </tr>\n",
       "    <tr>\n",
       "      <th>2</th>\n",
       "      <td>81,330,639</td>\n",
       "      <td>82,377,060</td>\n",
       "      <td>83,232,115</td>\n",
       "      <td>83,836,876</td>\n",
       "      <td>84,224,910</td>\n",
       "      <td>84,506,374</td>\n",
       "      <td>84,708,789</td>\n",
       "      <td>84,753,917</td>\n",
       "      <td>84,633,758</td>\n",
       "      <td>84,370,698</td>\n",
       "      <td>...</td>\n",
       "      <td>55,373,563</td>\n",
       "      <td>53,889,480</td>\n",
       "      <td>52,380,615</td>\n",
       "      <td>50,862,808</td>\n",
       "      <td>49,423,346</td>\n",
       "      <td>48,173,195</td>\n",
       "      <td>47,237,781</td>\n",
       "      <td>46,747,398</td>\n",
       "      <td>46,827,301</td>\n",
       "      <td>47,603,112</td>\n",
       "    </tr>\n",
       "    <tr>\n",
       "      <th>3</th>\n",
       "      <td>52</td>\n",
       "      <td>52</td>\n",
       "      <td>51</td>\n",
       "      <td>51</td>\n",
       "      <td>50</td>\n",
       "      <td>50</td>\n",
       "      <td>49</td>\n",
       "      <td>48</td>\n",
       "      <td>48</td>\n",
       "      <td>47</td>\n",
       "      <td>...</td>\n",
       "      <td>20</td>\n",
       "      <td>20</td>\n",
       "      <td>20</td>\n",
       "      <td>19</td>\n",
       "      <td>19</td>\n",
       "      <td>19</td>\n",
       "      <td>18</td>\n",
       "      <td>18</td>\n",
       "      <td>18</td>\n",
       "      <td>17</td>\n",
       "    </tr>\n",
       "    <tr>\n",
       "      <th>4</th>\n",
       "      <td>4,378,993,944</td>\n",
       "      <td>4,299,438,618</td>\n",
       "      <td>4,219,817,318</td>\n",
       "      <td>4,140,188,594</td>\n",
       "      <td>4,060,652,683</td>\n",
       "      <td>3,981,497,663</td>\n",
       "      <td>3,902,831,934</td>\n",
       "      <td>3,824,990,329</td>\n",
       "      <td>3,747,842,586</td>\n",
       "      <td>3,671,423,872</td>\n",
       "      <td>...</td>\n",
       "      <td>1,023,845,517</td>\n",
       "      <td>992,820,546</td>\n",
       "      <td>962,537,113</td>\n",
       "      <td>933,113,168</td>\n",
       "      <td>904,685,164</td>\n",
       "      <td>877,008,842</td>\n",
       "      <td>850,179,106</td>\n",
       "      <td>824,289,989</td>\n",
       "      <td>799,282,533</td>\n",
       "      <td>775,067,697</td>\n",
       "    </tr>\n",
       "  </tbody>\n",
       "</table>\n",
       "<p>5 rows × 70 columns</p>\n",
       "</div>"
      ],
      "text/plain": [
       "            2020           2019           2018           2017           2016  \\\n",
       "0  7,794,798,739  7,713,468,100  7,631,091,040  7,547,858,925  7,464,022,049   \n",
       "1         1.05 %         1.08 %         1.10 %         1.12 %         1.14 %   \n",
       "2     81,330,639     82,377,060     83,232,115     83,836,876     84,224,910   \n",
       "3             52             52             51             51             50   \n",
       "4  4,378,993,944  4,299,438,618  4,219,817,318  4,140,188,594  4,060,652,683   \n",
       "\n",
       "            2015           2014           2013           2012           2011  \\\n",
       "0  7,379,797,139  7,295,290,765  7,210,581,976  7,125,828,059  7,041,194,301   \n",
       "1         1.16 %         1.17 %         1.19 %         1.20 %         1.21 %   \n",
       "2     84,506,374     84,708,789     84,753,917     84,633,758     84,370,698   \n",
       "3             50             49             48             48             47   \n",
       "4  3,981,497,663  3,902,831,934  3,824,990,329  3,747,842,586  3,671,423,872   \n",
       "\n",
       "   ...           1960           1959           1958           1957  \\\n",
       "0  ...  3,034,949,748  2,979,576,185  2,925,686,705  2,873,306,090   \n",
       "1  ...         1.86 %         1.84 %         1.82 %         1.80 %   \n",
       "2  ...     55,373,563     53,889,480     52,380,615     50,862,808   \n",
       "3  ...             20             20             20             19   \n",
       "4  ...  1,023,845,517    992,820,546    962,537,113    933,113,168   \n",
       "\n",
       "            1956           1955           1954           1953           1952  \\\n",
       "0  2,822,443,282  2,773,019,936  2,724,846,741  2,677,608,960  2,630,861,562   \n",
       "1         1.78 %         1.77 %         1.76 %         1.78 %         1.81 %   \n",
       "2     49,423,346     48,173,195     47,237,781     46,747,398     46,827,301   \n",
       "3             19             19             18             18             18   \n",
       "4    904,685,164    877,008,842    850,179,106    824,289,989    799,282,533   \n",
       "\n",
       "            1951  \n",
       "0  2,584,034,261  \n",
       "1         1.88 %  \n",
       "2     47,603,112  \n",
       "3             17  \n",
       "4    775,067,697  \n",
       "\n",
       "[5 rows x 70 columns]"
      ]
     },
     "execution_count": 7,
     "metadata": {},
     "output_type": "execute_result"
    }
   ],
   "source": [
    "df = pd.DataFrame(dic)\n",
    "df.head()"
   ]
  },
  {
   "cell_type": "markdown",
   "metadata": {},
   "source": [
    "### Modify and Rename"
   ]
  },
  {
   "cell_type": "code",
   "execution_count": 8,
   "metadata": {},
   "outputs": [],
   "source": [
    "df = df.T\n",
    "df = df.rename(columns={0:'World Population', 1:'Yearly Change', 2:'Net Change',3:'Density (P/Km^2)',4:'Urban Pop', 5: 'Urban Pop %'})"
   ]
  },
  {
   "cell_type": "code",
   "execution_count": 9,
   "metadata": {},
   "outputs": [],
   "source": [
    "df.reset_index(inplace=True)\n",
    "df.rename(columns={'index':'Year'}, inplace=True)"
   ]
  },
  {
   "cell_type": "code",
   "execution_count": 10,
   "metadata": {},
   "outputs": [
    {
     "data": {
      "text/html": [
       "<div>\n",
       "<style scoped>\n",
       "    .dataframe tbody tr th:only-of-type {\n",
       "        vertical-align: middle;\n",
       "    }\n",
       "\n",
       "    .dataframe tbody tr th {\n",
       "        vertical-align: top;\n",
       "    }\n",
       "\n",
       "    .dataframe thead th {\n",
       "        text-align: right;\n",
       "    }\n",
       "</style>\n",
       "<table border=\"1\" class=\"dataframe\">\n",
       "  <thead>\n",
       "    <tr style=\"text-align: right;\">\n",
       "      <th></th>\n",
       "      <th>Year</th>\n",
       "      <th>World Population</th>\n",
       "      <th>Yearly Change</th>\n",
       "      <th>Net Change</th>\n",
       "      <th>Density (P/Km^2)</th>\n",
       "      <th>Urban Pop</th>\n",
       "      <th>Urban Pop %</th>\n",
       "    </tr>\n",
       "  </thead>\n",
       "  <tbody>\n",
       "    <tr>\n",
       "      <th>0</th>\n",
       "      <td>2020</td>\n",
       "      <td>7,794,798,739</td>\n",
       "      <td>1.05 %</td>\n",
       "      <td>81,330,639</td>\n",
       "      <td>52</td>\n",
       "      <td>4,378,993,944</td>\n",
       "      <td>56 %</td>\n",
       "    </tr>\n",
       "    <tr>\n",
       "      <th>1</th>\n",
       "      <td>2019</td>\n",
       "      <td>7,713,468,100</td>\n",
       "      <td>1.08 %</td>\n",
       "      <td>82,377,060</td>\n",
       "      <td>52</td>\n",
       "      <td>4,299,438,618</td>\n",
       "      <td>56 %</td>\n",
       "    </tr>\n",
       "    <tr>\n",
       "      <th>2</th>\n",
       "      <td>2018</td>\n",
       "      <td>7,631,091,040</td>\n",
       "      <td>1.10 %</td>\n",
       "      <td>83,232,115</td>\n",
       "      <td>51</td>\n",
       "      <td>4,219,817,318</td>\n",
       "      <td>55 %</td>\n",
       "    </tr>\n",
       "    <tr>\n",
       "      <th>3</th>\n",
       "      <td>2017</td>\n",
       "      <td>7,547,858,925</td>\n",
       "      <td>1.12 %</td>\n",
       "      <td>83,836,876</td>\n",
       "      <td>51</td>\n",
       "      <td>4,140,188,594</td>\n",
       "      <td>55 %</td>\n",
       "    </tr>\n",
       "    <tr>\n",
       "      <th>4</th>\n",
       "      <td>2016</td>\n",
       "      <td>7,464,022,049</td>\n",
       "      <td>1.14 %</td>\n",
       "      <td>84,224,910</td>\n",
       "      <td>50</td>\n",
       "      <td>4,060,652,683</td>\n",
       "      <td>54 %</td>\n",
       "    </tr>\n",
       "  </tbody>\n",
       "</table>\n",
       "</div>"
      ],
      "text/plain": [
       "   Year World Population Yearly Change  Net Change Density (P/Km^2)  \\\n",
       "0  2020    7,794,798,739        1.05 %  81,330,639               52   \n",
       "1  2019    7,713,468,100        1.08 %  82,377,060               52   \n",
       "2  2018    7,631,091,040        1.10 %  83,232,115               51   \n",
       "3  2017    7,547,858,925        1.12 %  83,836,876               51   \n",
       "4  2016    7,464,022,049        1.14 %  84,224,910               50   \n",
       "\n",
       "       Urban Pop Urban Pop %  \n",
       "0  4,378,993,944        56 %  \n",
       "1  4,299,438,618        56 %  \n",
       "2  4,219,817,318        55 %  \n",
       "3  4,140,188,594        55 %  \n",
       "4  4,060,652,683        54 %  "
      ]
     },
     "execution_count": 10,
     "metadata": {},
     "output_type": "execute_result"
    }
   ],
   "source": [
    "df.head()"
   ]
  },
  {
   "cell_type": "markdown",
   "metadata": {},
   "source": [
    "## Cleaning"
   ]
  },
  {
   "cell_type": "markdown",
   "metadata": {},
   "source": [
    "### Fixing data types"
   ]
  },
  {
   "cell_type": "code",
   "execution_count": 11,
   "metadata": {},
   "outputs": [
    {
     "name": "stdout",
     "output_type": "stream",
     "text": [
      "<class 'pandas.core.frame.DataFrame'>\n",
      "RangeIndex: 70 entries, 0 to 69\n",
      "Data columns (total 7 columns):\n",
      " #   Column            Non-Null Count  Dtype \n",
      "---  ------            --------------  ----- \n",
      " 0   Year              70 non-null     object\n",
      " 1   World Population  70 non-null     object\n",
      " 2   Yearly Change     70 non-null     object\n",
      " 3   Net Change        70 non-null     object\n",
      " 4   Density (P/Km^2)  70 non-null     object\n",
      " 5   Urban Pop         70 non-null     object\n",
      " 6   Urban Pop %       70 non-null     object\n",
      "dtypes: object(7)\n",
      "memory usage: 4.0+ KB\n"
     ]
    }
   ],
   "source": [
    "df.info()"
   ]
  },
  {
   "cell_type": "code",
   "execution_count": 12,
   "metadata": {},
   "outputs": [],
   "source": [
    "def str_to_int(df):\n",
    "    var = df\n",
    "    var = var.str.replace(\",\",'')\n",
    "    df = var.astype(int)\n",
    "    return df"
   ]
  },
  {
   "cell_type": "code",
   "execution_count": 13,
   "metadata": {},
   "outputs": [
    {
     "data": {
      "text/html": [
       "<div>\n",
       "<style scoped>\n",
       "    .dataframe tbody tr th:only-of-type {\n",
       "        vertical-align: middle;\n",
       "    }\n",
       "\n",
       "    .dataframe tbody tr th {\n",
       "        vertical-align: top;\n",
       "    }\n",
       "\n",
       "    .dataframe thead th {\n",
       "        text-align: right;\n",
       "    }\n",
       "</style>\n",
       "<table border=\"1\" class=\"dataframe\">\n",
       "  <thead>\n",
       "    <tr style=\"text-align: right;\">\n",
       "      <th></th>\n",
       "      <th>Year</th>\n",
       "      <th>World Population</th>\n",
       "      <th>Yearly Change</th>\n",
       "      <th>Net Change</th>\n",
       "      <th>Density (P/Km^2)</th>\n",
       "      <th>Urban Pop</th>\n",
       "      <th>Urban Pop %</th>\n",
       "    </tr>\n",
       "  </thead>\n",
       "  <tbody>\n",
       "    <tr>\n",
       "      <th>0</th>\n",
       "      <td>2020</td>\n",
       "      <td>7794798739</td>\n",
       "      <td>1.05 %</td>\n",
       "      <td>81330639</td>\n",
       "      <td>52</td>\n",
       "      <td>4378993944</td>\n",
       "      <td>56 %</td>\n",
       "    </tr>\n",
       "    <tr>\n",
       "      <th>1</th>\n",
       "      <td>2019</td>\n",
       "      <td>7713468100</td>\n",
       "      <td>1.08 %</td>\n",
       "      <td>82377060</td>\n",
       "      <td>52</td>\n",
       "      <td>4299438618</td>\n",
       "      <td>56 %</td>\n",
       "    </tr>\n",
       "    <tr>\n",
       "      <th>2</th>\n",
       "      <td>2018</td>\n",
       "      <td>7631091040</td>\n",
       "      <td>1.10 %</td>\n",
       "      <td>83232115</td>\n",
       "      <td>51</td>\n",
       "      <td>4219817318</td>\n",
       "      <td>55 %</td>\n",
       "    </tr>\n",
       "    <tr>\n",
       "      <th>3</th>\n",
       "      <td>2017</td>\n",
       "      <td>7547858925</td>\n",
       "      <td>1.12 %</td>\n",
       "      <td>83836876</td>\n",
       "      <td>51</td>\n",
       "      <td>4140188594</td>\n",
       "      <td>55 %</td>\n",
       "    </tr>\n",
       "    <tr>\n",
       "      <th>4</th>\n",
       "      <td>2016</td>\n",
       "      <td>7464022049</td>\n",
       "      <td>1.14 %</td>\n",
       "      <td>84224910</td>\n",
       "      <td>50</td>\n",
       "      <td>4060652683</td>\n",
       "      <td>54 %</td>\n",
       "    </tr>\n",
       "  </tbody>\n",
       "</table>\n",
       "</div>"
      ],
      "text/plain": [
       "   Year  World Population Yearly Change  Net Change  Density (P/Km^2)  \\\n",
       "0  2020        7794798739        1.05 %    81330639                52   \n",
       "1  2019        7713468100        1.08 %    82377060                52   \n",
       "2  2018        7631091040        1.10 %    83232115                51   \n",
       "3  2017        7547858925        1.12 %    83836876                51   \n",
       "4  2016        7464022049        1.14 %    84224910                50   \n",
       "\n",
       "    Urban Pop Urban Pop %  \n",
       "0  4378993944        56 %  \n",
       "1  4299438618        56 %  \n",
       "2  4219817318        55 %  \n",
       "3  4140188594        55 %  \n",
       "4  4060652683        54 %  "
      ]
     },
     "execution_count": 13,
     "metadata": {},
     "output_type": "execute_result"
    }
   ],
   "source": [
    "df['World Population'] = str_to_int(df['World Population'])\n",
    "df['Net Change'] = str_to_int(df['Net Change'])\n",
    "df['Urban Pop'] = str_to_int(df['Urban Pop'])\n",
    "df['Density (P/Km^2)'] = str_to_int(df['Density (P/Km^2)'])\n",
    "\n",
    "df.head()"
   ]
  },
  {
   "cell_type": "code",
   "execution_count": 14,
   "metadata": {},
   "outputs": [],
   "source": [
    "df['Yearly Change']= df['Yearly Change'].str.replace('%','').astype(float)\n",
    "df['Year']= df['Year'].astype(int)\n"
   ]
  },
  {
   "cell_type": "code",
   "execution_count": 15,
   "metadata": {},
   "outputs": [
    {
     "name": "stdout",
     "output_type": "stream",
     "text": [
      "<class 'pandas.core.frame.DataFrame'>\n",
      "RangeIndex: 70 entries, 0 to 69\n",
      "Data columns (total 7 columns):\n",
      " #   Column            Non-Null Count  Dtype  \n",
      "---  ------            --------------  -----  \n",
      " 0   Year              70 non-null     int64  \n",
      " 1   World Population  70 non-null     int64  \n",
      " 2   Yearly Change     70 non-null     float64\n",
      " 3   Net Change        70 non-null     int64  \n",
      " 4   Density (P/Km^2)  70 non-null     int64  \n",
      " 5   Urban Pop         70 non-null     int64  \n",
      " 6   Urban Pop %       70 non-null     object \n",
      "dtypes: float64(1), int64(5), object(1)\n",
      "memory usage: 4.0+ KB\n"
     ]
    }
   ],
   "source": [
    "df.info()"
   ]
  },
  {
   "cell_type": "markdown",
   "metadata": {},
   "source": [
    "## Exploratory Data Analysis"
   ]
  },
  {
   "cell_type": "markdown",
   "metadata": {},
   "source": [
    "### World Population over the decades"
   ]
  },
  {
   "cell_type": "code",
   "execution_count": 16,
   "metadata": {},
   "outputs": [],
   "source": [
    "df.sort_values(by='Year', inplace=True)"
   ]
  },
  {
   "cell_type": "code",
   "execution_count": 17,
   "metadata": {},
   "outputs": [
    {
     "data": {
      "image/png": "[encoded data removed]",
      "text/plain": [
       "<Figure size 432x288 with 1 Axes>"
      ]
     },
     "metadata": {
      "needs_background": "light"
     },
     "output_type": "display_data"
    }
   ],
   "source": [
    "fig, ax = plt.subplots()\n",
    "plt.style.use('seaborn-darkgrid')\n",
    "ax.plot(df['Year'], df['World Population'])\n",
    "ax.set(xlabel='Year', ylabel='Population\\n(Billions)', title='World Population')\n",
    "ax.ticklabel_format(useMathText=True)\n",
    "fig.tight_layout()"
   ]
  },
  {
   "cell_type": "markdown",
   "metadata": {},
   "source": [
    "Increasing trend"
   ]
  },
  {
   "cell_type": "markdown",
   "metadata": {},
   "source": [
    "### World Population Yearly Change"
   ]
  },
  {
   "cell_type": "code",
   "execution_count": 18,
   "metadata": {},
   "outputs": [
    {
     "data": {
      "image/png": "[encoded data removed]",
      "text/plain": [
       "<Figure size 432x288 with 1 Axes>"
      ]
     },
     "metadata": {},
     "output_type": "display_data"
    }
   ],
   "source": [
    "fig, ax = plt.subplots()\n",
    "plt.style.use('seaborn-darkgrid')\n",
    "ax.plot(df['Year'], df['Yearly Change'])\n",
    "ax.set(xlabel='Year', ylabel='Yearly Change\\n(%)', title='World Population Yearly Change')\n",
    "fig.tight_layout()"
   ]
  },
  {
   "cell_type": "markdown",
   "metadata": {},
   "source": [
    "Yearly change is, overall, decreasing"
   ]
  },
  {
   "cell_type": "markdown",
   "metadata": {},
   "source": [
    "### Population Density over time"
   ]
  },
  {
   "cell_type": "code",
   "execution_count": 19,
   "metadata": {},
   "outputs": [
    {
     "data": {
      "image/png": "[encoded data removed]",
      "text/plain": [
       "<Figure size 432x288 with 1 Axes>"
      ]
     },
     "metadata": {},
     "output_type": "display_data"
    }
   ],
   "source": [
    "fig, ax = plt.subplots()\n",
    "plt.style.use('seaborn-darkgrid')\n",
    "ax.bar(df['Year'], df['Density (P/Km^2)'], color='darkorange')\n",
    "ax.set(xlabel='Year', ylabel='Density\\n(P/Km^2)', title='Population Density')\n",
    "fig.tight_layout()"
   ]
  },
  {
   "cell_type": "markdown",
   "metadata": {},
   "source": [
    "Population density is increasing"
   ]
  },
  {
   "cell_type": "markdown",
   "metadata": {},
   "source": [
    "### Urban vs Rural"
   ]
  },
  {
   "cell_type": "code",
   "execution_count": 20,
   "metadata": {},
   "outputs": [
    {
     "data": {
      "image/png": "[encoded data removed]",
      "text/plain": [
       "<Figure size 432x288 with 1 Axes>"
      ]
     },
     "metadata": {},
     "output_type": "display_data"
    }
   ],
   "source": [
    "labels = df['Year']\n",
    "urban = df['Urban Pop']\n",
    "rural = df['World Population'] - df['Urban Pop']\n",
    "\n",
    "fig, ax = plt.subplots()\n",
    "plt.style.use('seaborn-darkgrid')\n",
    "ax.bar(labels, rural, label='Rural')\n",
    "ax.bar(labels, urban,  bottom=rural,label='Urban')\n",
    "ax.legend()\n",
    "\n",
    "ax.ticklabel_format(useMathText=True)\n",
    "fig.tight_layout()\n",
    "\n",
    "ax.set(xlabel='Year', ylabel='Population\\n(Billions)', title='Population Distribution')\n",
    "fig.tight_layout()"
   ]
  },
  {
   "cell_type": "markdown",
   "metadata": {},
   "source": [
    "People are increasing in Urban areas"
   ]
  },
  {
   "cell_type": "markdown",
   "metadata": {},
   "source": [
    "## Conclusions:\n",
    "The world population is increasing nearly at a steady rate, however, the yearly change is decreasing over time. Density-wise, more people are living in a unit space nowadays compared to the past 7 decades, where most of them are in urban areas."
   ]
  }
 ],
 "metadata": {
  "interpreter": {
   "hash": "5318f735ee1d03f20649cda02cf5326ec3677341580ddb1cc20c6235ab67c1d8"
  },
  "kernelspec": {
   "display_name": "Python 3.9.7 64-bit ('minimal_ds': conda)",
   "language": "python",
   "name": "python3"
  },
  "language_info": {
   "codemirror_mode": {
    "name": "ipython",
    "version": 3
   },
   "file_extension": ".py",
   "mimetype": "text/x-python",
   "name": "python",
   "nbconvert_exporter": "python",
   "pygments_lexer": "ipython3",
   "version": "3.10.4"
  },
  "orig_nbformat": 4
 },
 "nbformat": 4,
 "nbformat_minor": 2
}
